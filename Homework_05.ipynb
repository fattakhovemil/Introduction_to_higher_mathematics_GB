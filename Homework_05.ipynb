{
 "cells": [
  {
   "cell_type": "code",
   "execution_count": 1,
   "metadata": {},
   "outputs": [],
   "source": [
    "import numpy as np\n",
    "import matplotlib.pyplot as plt\n",
    "%matplotlib inline"
   ]
  },
  {
   "cell_type": "markdown",
   "metadata": {},
   "source": [
    "1. Напишите код, моделирующий выпадение поля в рулетке (с учетом поля зеро)."
   ]
  },
  {
   "cell_type": "code",
   "execution_count": 17,
   "metadata": {},
   "outputs": [
    {
     "name": "stdout",
     "output_type": "stream",
     "text": [
      "\n",
      "20\n",
      "Black\n",
      "\n",
      "4\n",
      "Black\n",
      "\n",
      "11\n",
      "Black\n",
      "\n",
      "15\n",
      "Black\n",
      "\n",
      "7\n",
      "Red\n"
     ]
    }
   ],
   "source": [
    "reds = (1,3,5,7,9,12,14,16,18,21,23,25,27,30,32,34,36)\n",
    "blacks = (2,4,6,8,10,11,13,15,17,19,20,22,24,26,28,29,31,33,35)\n",
    "for i in range(0, 5):\n",
    "    a = input()\n",
    "    x = np.random.randint(0, 37)\n",
    "    print(x)\n",
    "    if x == 0:\n",
    "        print(\"Zero\")\n",
    "    elif x in reds:\n",
    "        print(\"Red\")\n",
    "    else:\n",
    "        print(\"Black\")"
   ]
  },
  {
   "cell_type": "markdown",
   "metadata": {},
   "source": [
    "2.1 Напишите код, проверяющий любую из теорем сложения или умножения вероятности на примере рулетки или подбрасывания монетки."
   ]
  },
  {
   "cell_type": "code",
   "execution_count": 12,
   "metadata": {},
   "outputs": [
    {
     "name": "stdout",
     "output_type": "stream",
     "text": [
      "Орел - 467 Решка - 533\n"
     ]
    },
    {
     "data": {
      "text/plain": [
       "True"
      ]
     },
     "execution_count": 12,
     "metadata": {},
     "output_type": "execute_result"
    }
   ],
   "source": [
    "# Проверим теорему о сложении вероятностей - вероятность появления одного из двух несовместных событий\n",
    "# равна сумме вероятностей этих событий.\n",
    "# P(A+B) = P(A) + P(B)\n",
    "# P(A) = m/n, где m - кол-во выпадений орла (1), n - общее кол-во испытаний\n",
    "# P(B) = k/n, где k - кол-во выпадений решки (0), n - общее кол-во испытаний\n",
    "# P(A+B) = P(A) + P(B) = m/n + k/n = (m+k)/n\n",
    "throws = 1000\n",
    "eagle, nutlet = 0, 0\n",
    "for i in range(0, throws):\n",
    "    x = np.random.uniform(1, 10)\n",
    "    if x < 5:\n",
    "        eagle += 1\n",
    "    else:\n",
    "        nutlet += 1\n",
    "print(\"Орел -\", eagle, \"Решка -\", nutlet)\n",
    "# проверим:\n",
    "eagle/throws + nutlet/throws == 1"
   ]
  },
  {
   "cell_type": "markdown",
   "metadata": {},
   "source": [
    "2.2 Сгенерируйте десять выборок случайных чисел х0, …, х9\n",
    "\n",
    "и постройте гистограмму распределения случайной суммы х0+х1+ …+ х9."
   ]
  },
  {
   "cell_type": "code",
   "execution_count": 29,
   "metadata": {},
   "outputs": [
    {
     "data": {
      "image/png": "[encoded data removed]",
      "text/plain": [
       "<Figure size 432x288 with 1 Axes>"
      ]
     },
     "metadata": {
      "needs_background": "light"
     },
     "output_type": "display_data"
    }
   ],
   "source": [
    "# сгенерируем n выборок m случайных чисел и запишем результат в массив:\n",
    "n = 10\n",
    "m = 10\n",
    "num_bins = 5\n",
    "total = np.array([np.random.rand(m) for _ in range(n)])\n",
    "# построим гистограмму распределения случайной суммы:\n",
    "n, bins, pathes = plt.hist(np.array([np.sum(x) for x in total]), num_bins)\n",
    "plt.show()"
   ]
  },
  {
   "cell_type": "markdown",
   "metadata": {},
   "source": [
    "3.1 Дополните код Монте-Карло последовательности независимых испытаний расчетом соответствующих вероятностей (через биномиальное распределение) \n",
    "и сравните результаты."
   ]
  },
  {
   "cell_type": "code",
   "execution_count": 30,
   "metadata": {},
   "outputs": [],
   "source": [
    "def Bernoulli(n, k):\n",
    "    C = np.math.factorial(n) / (np.math.factorial(k) * np.math.factorial(n - k))\n",
    "    p = 1 / 2\n",
    "    q = 1 - p\n",
    "    return C * np.power(p, k) * np.power(q, n - k)"
   ]
  },
  {
   "cell_type": "code",
   "execution_count": 31,
   "metadata": {},
   "outputs": [
    {
     "name": "stdout",
     "output_type": "stream",
     "text": [
      "Monte Carlo: 0.3771,  Bernoulli: 0.375\n"
     ]
    }
   ],
   "source": [
    "def Monte_Carlo(k, n):\n",
    "    a = np.random.randint(0, 2, n)\n",
    "    b = np.random.randint(0, 2, n)\n",
    "    c = np.random.randint(0, 2, n)\n",
    "    d = np.random.randint(0, 2, n)\n",
    "    x = a + b + c + d\n",
    "    for i in range(0, n):\n",
    "        if x[i] == 2:\n",
    "            k = k + 1\n",
    "    return k / n        \n",
    "print(f'Monte Carlo: {np.round(Monte_Carlo(0, 10000), 4)},  Bernoulli: {np.round(Bernoulli(4, 2), 4)}')"
   ]
  },
  {
   "cell_type": "code",
   "execution_count": 32,
   "metadata": {},
   "outputs": [],
   "source": [
    "# с другими k and n\n",
    "def Bernoulli(n, k):\n",
    "    C = np.math.factorial(n) / (np.math.factorial(k) * np.math.factorial(n - k))\n",
    "    p = 1 / 2\n",
    "    q = 1 - p\n",
    "    return C * np.power(p, k) * np.power(q, n - k)"
   ]
  },
  {
   "cell_type": "code",
   "execution_count": 36,
   "metadata": {},
   "outputs": [
    {
     "name": "stdout",
     "output_type": "stream",
     "text": [
      "Monte Carlo: 0.2408,  Bernoulli: 0.2344\n"
     ]
    }
   ],
   "source": [
    "def Monte_Carlo(k, n):\n",
    "    a = np.random.randint(0, 2, n)\n",
    "    b = np.random.randint(0, 2, n)\n",
    "    c = np.random.randint(0, 2, n)\n",
    "    d = np.random.randint(0, 2, n)\n",
    "    e = np.random.randint(0, 2, n)\n",
    "    f = np.random.randint(0, 2, n)\n",
    "    x = a + b + c + d + e + f\n",
    "    for i in range(0, n):\n",
    "        if x[i] == 4:\n",
    "            k = k + 1\n",
    "    return k / n        \n",
    "print(f'Monte Carlo: {np.round(Monte_Carlo(0, 10000), 4)},  Bernoulli: {np.round(Bernoulli(6, 4), 4)}')"
   ]
  },
  {
   "cell_type": "markdown",
   "metadata": {},
   "source": [
    "4. Из урока по комбинаторике повторите расчеты, сгенерировав возможные варианты перестановок для других значений n и k."
   ]
  },
  {
   "cell_type": "code",
   "execution_count": 37,
   "metadata": {},
   "outputs": [],
   "source": [
    "import itertools "
   ]
  },
  {
   "cell_type": "code",
   "execution_count": 38,
   "metadata": {},
   "outputs": [
    {
     "name": "stdout",
     "output_type": "stream",
     "text": [
      "123\n",
      "124\n",
      "132\n",
      "134\n",
      "142\n",
      "143\n",
      "213\n",
      "214\n",
      "231\n",
      "234\n",
      "241\n",
      "243\n",
      "312\n",
      "314\n",
      "321\n",
      "324\n",
      "341\n",
      "342\n",
      "412\n",
      "413\n",
      "421\n",
      "423\n",
      "431\n",
      "432\n"
     ]
    }
   ],
   "source": [
    "# перестановки \n",
    "for p in itertools.permutations(\"1234\",3):\n",
    "    print(''.join(str(x) for x in p))"
   ]
  },
  {
   "cell_type": "code",
   "execution_count": 39,
   "metadata": {},
   "outputs": [
    {
     "name": "stdout",
     "output_type": "stream",
     "text": [
      "123\n",
      "124\n",
      "134\n",
      "234\n"
     ]
    }
   ],
   "source": [
    "# сочетания\n",
    "for p in itertools.combinations(\"1234\",3):\n",
    "    print(''.join(p))"
   ]
  },
  {
   "cell_type": "code",
   "execution_count": 40,
   "metadata": {},
   "outputs": [
    {
     "name": "stdout",
     "output_type": "stream",
     "text": [
      "111\n",
      "112\n",
      "113\n",
      "114\n",
      "121\n",
      "122\n",
      "123\n",
      "124\n",
      "131\n",
      "132\n",
      "133\n",
      "134\n",
      "141\n",
      "142\n",
      "143\n",
      "144\n",
      "211\n",
      "212\n",
      "213\n",
      "214\n",
      "221\n",
      "222\n",
      "223\n",
      "224\n",
      "231\n",
      "232\n",
      "233\n",
      "234\n",
      "241\n",
      "242\n",
      "243\n",
      "244\n",
      "311\n",
      "312\n",
      "313\n",
      "314\n",
      "321\n",
      "322\n",
      "323\n",
      "324\n",
      "331\n",
      "332\n",
      "333\n",
      "334\n",
      "341\n",
      "342\n",
      "343\n",
      "344\n",
      "411\n",
      "412\n",
      "413\n",
      "414\n",
      "421\n",
      "422\n",
      "423\n",
      "424\n",
      "431\n",
      "432\n",
      "433\n",
      "434\n",
      "441\n",
      "442\n",
      "443\n",
      "444\n"
     ]
    }
   ],
   "source": [
    "for p in itertools.product(\"1234\",repeat=3):\n",
    "    print(''.join(p))"
   ]
  },
  {
   "cell_type": "markdown",
   "metadata": {},
   "source": [
    "5. Дополните код расчетом коэффициента корреляции x и y по формуле\n",
    "$$R = \\frac{\\sum(x_i-x_m)\\cdot(y_i-y_m)}{\\sqrt(\\sum(x_i-x_m)^2(y_i-y_m)^2)}$$"
   ]
  },
  {
   "cell_type": "code",
   "execution_count": 41,
   "metadata": {},
   "outputs": [],
   "source": [
    "# коэффициента корреляции\n",
    "def R(x, y):\n",
    "    a = np.sum((x - np.mean(x))*(y - np.mean(y)))\n",
    "    b = np.sqrt(np.sum(np.power(x - np.mean(x), 2))*np.sum(np.power(y - np.mean(y), 2)))\n",
    "    return a / b"
   ]
  },
  {
   "cell_type": "code",
   "execution_count": 42,
   "metadata": {},
   "outputs": [
    {
     "name": "stdout",
     "output_type": "stream",
     "text": [
      "0.8087973678915398 0.10047633794027683\n",
      "0.8087973678915387 0.10047633794027766\n"
     ]
    },
    {
     "data": {
      "image/png": "[encoded data removed]",
      "text/plain": [
       "<Figure size 432x288 with 1 Axes>"
      ]
     },
     "metadata": {
      "needs_background": "light"
     },
     "output_type": "display_data"
    },
    {
     "name": "stdout",
     "output_type": "stream",
     "text": [
      "R: 0.9695\n"
     ]
    }
   ],
   "source": [
    "n = 100\n",
    "r = 0.8\n",
    "x = np.random.rand(n)\n",
    "y = r*x + (1 - r)*np.random.rand(n)\n",
    "plt.plot(x, y, 'o')\n",
    "plt.xlabel('x')\n",
    "plt.ylabel('y')\n",
    "plt.grid(True)\n",
    "\n",
    "a = (np.sum(x)*np.sum(y) - n*np.sum(x*y)) / (np.sum(x)*np.sum(x) - n*np.sum(x*x))\n",
    "b = (np.sum(y) - a*np.sum(x)) / n\n",
    "\n",
    "A = np.vstack([x, np.ones(len(x))]).T\n",
    "a1, b1 = np.linalg.lstsq(A, y, rcond=-1)[0]\n",
    "print(a, b)\n",
    "print(a1, b1)\n",
    "plt.plot([0, 1], [b, a + b])\n",
    "plt.show()\n",
    "print(f'R: {np.round(R(x, y), 4)}')"
   ]
  }
 ],
 "metadata": {
  "kernelspec": {
   "display_name": "Python 3",
   "language": "python",
   "name": "python3"
  },
  "language_info": {
   "codemirror_mode": {
    "name": "ipython",
    "version": 3
   },
   "file_extension": ".py",
   "mimetype": "text/x-python",
   "name": "python",
   "nbconvert_exporter": "python",
   "pygments_lexer": "ipython3",
   "version": "3.8.0"
  }
 },
 "nbformat": 4,
 "nbformat_minor": 4
}
