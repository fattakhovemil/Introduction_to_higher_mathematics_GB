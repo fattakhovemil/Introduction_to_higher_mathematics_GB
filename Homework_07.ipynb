{
 "cells": [
  {
   "cell_type": "code",
   "execution_count": 1,
   "metadata": {},
   "outputs": [],
   "source": [
    "import numpy as np"
   ]
  },
  {
   "cell_type": "markdown",
   "metadata": {},
   "source": [
    "#### 1. Решите линейную систему:"
   ]
  },
  {
   "cell_type": "code",
   "execution_count": 3,
   "metadata": {},
   "outputs": [],
   "source": [
    "A = np.array([[1, 2, 3], [4, 0, 6], [7, 8, 9]])\n",
    "B = np.array([12, 2, 1])"
   ]
  },
  {
   "cell_type": "code",
   "execution_count": 4,
   "metadata": {},
   "outputs": [
    {
     "name": "stdout",
     "output_type": "stream",
     "text": [
      "59.999999999999986\n"
     ]
    }
   ],
   "source": [
    "#найдем определитель матрицы A\n",
    "det_A = np.linalg.det(A)\n",
    "print(det_A)"
   ]
  },
  {
   "cell_type": "markdown",
   "metadata": {},
   "source": [
    "Так определитель не равен нулю, то мы можем найти решение СЛАУ"
   ]
  },
  {
   "cell_type": "code",
   "execution_count": 6,
   "metadata": {},
   "outputs": [
    {
     "name": "stdout",
     "output_type": "stream",
     "text": [
      "[-9.2         0.9         6.46666667]\n",
      "[-9.2         0.9         6.46666667]\n"
     ]
    }
   ],
   "source": [
    "X1 = np.linalg.solve(A, B)\n",
    "X2 = np.dot(np.linalg.inv(A), B)\n",
    "print(X1)\n",
    "print(X2)"
   ]
  },
  {
   "cell_type": "code",
   "execution_count": 7,
   "metadata": {},
   "outputs": [
    {
     "name": "stdout",
     "output_type": "stream",
     "text": [
      "[12.  2.  1.]\n",
      "[12.  2.  1.]\n"
     ]
    }
   ],
   "source": [
    "#проверка\n",
    "print(np.dot(A, X1))\n",
    "print(np.dot(A, X2))"
   ]
  },
  {
   "cell_type": "markdown",
   "metadata": {},
   "source": [
    "#### 2. Найдите псевдорешение:"
   ]
  },
  {
   "cell_type": "markdown",
   "metadata": {},
   "source": [
    "$x + 2y – z = 1$\n",
    "\n",
    "$3x – 4y = 7$\n",
    "\n",
    "$8x – 5y + 2z = 12$\n",
    "\n",
    "$2x – 5z = 7$\n",
    "\n",
    "$11x +4y – 7z = 15$"
   ]
  },
  {
   "cell_type": "code",
   "execution_count": 8,
   "metadata": {},
   "outputs": [
    {
     "name": "stdout",
     "output_type": "stream",
     "text": [
      "[[ 1  2 -1]\n",
      " [ 3 -4  0]\n",
      " [ 8 -5  2]\n",
      " [ 2  0 -5]\n",
      " [11  4 -7]]\n"
     ]
    }
   ],
   "source": [
    "A = np.array([[1, 2, -1], [3, -4, 0], [8, -5, 2], [2, 0, -5], [11, 4, -7]])\n",
    "B = np.array([1, 7, 12, 7, 15])\n",
    "print(A)"
   ]
  },
  {
   "cell_type": "code",
   "execution_count": 9,
   "metadata": {},
   "outputs": [
    {
     "name": "stdout",
     "output_type": "stream",
     "text": [
      "[ 1  7 12  7 15]\n"
     ]
    }
   ],
   "source": [
    "print(B)"
   ]
  },
  {
   "cell_type": "code",
   "execution_count": 11,
   "metadata": {},
   "outputs": [
    {
     "name": "stdout",
     "output_type": "stream",
     "text": [
      "[ 1.13919353 -0.90498444 -0.9009803 ]\n"
     ]
    }
   ],
   "source": [
    "X = np.linalg.lstsq(A, B, rcond=None)[0]\n",
    "print(X)"
   ]
  },
  {
   "cell_type": "code",
   "execution_count": 12,
   "metadata": {},
   "outputs": [
    {
     "name": "stdout",
     "output_type": "stream",
     "text": [
      "[ 0.23020495  7.03751834 11.83650981  6.78328855 15.21805313]\n"
     ]
    }
   ],
   "source": [
    "#проверка\n",
    "print(np.dot(A, X))"
   ]
  },
  {
   "cell_type": "markdown",
   "metadata": {},
   "source": [
    "#### 3. Сколько решений имеет линейная система:"
   ]
  },
  {
   "cell_type": "code",
   "execution_count": 14,
   "metadata": {},
   "outputs": [
    {
     "name": "stdout",
     "output_type": "stream",
     "text": [
      "[[ 1  2  3 12]\n",
      " [ 4  5  6  2]\n",
      " [ 7  8  9  1]]\n"
     ]
    },
    {
     "data": {
      "text/plain": [
       "(2, 3)"
      ]
     },
     "execution_count": 14,
     "metadata": {},
     "output_type": "execute_result"
    }
   ],
   "source": [
    "A = np.array([[1, 2, 3], [4, 5, 6], [7, 8, 9]])\n",
    "B = np.array([[12, 2, 1]])\n",
    "C = np.concatenate((A, B.T), axis=1)\n",
    "print(C)\n",
    "np.linalg.matrix_rank(A, 0.0001), np.linalg.matrix_rank(C, 0.0001)"
   ]
  },
  {
   "cell_type": "markdown",
   "metadata": {},
   "source": [
    "Так как ранг матрицы A меньше ранга расширенной матрицы C, то система не имеет решения."
   ]
  },
  {
   "cell_type": "markdown",
   "metadata": {},
   "source": [
    "Изменим вектор правой части так, чтобы система стала совместной, и решим ее:"
   ]
  },
  {
   "cell_type": "code",
   "execution_count": 16,
   "metadata": {},
   "outputs": [
    {
     "name": "stdout",
     "output_type": "stream",
     "text": [
      "[[1 2 3 2]\n",
      " [4 5 6 2]\n",
      " [7 8 9 2]]\n"
     ]
    },
    {
     "data": {
      "text/plain": [
       "(2, 2)"
      ]
     },
     "execution_count": 16,
     "metadata": {},
     "output_type": "execute_result"
    }
   ],
   "source": [
    "B = np.array([[2, 2, 2]])\n",
    "C = np.concatenate((A, B.T), axis=1)\n",
    "print(C)\n",
    "np.linalg.matrix_rank(A, 0.0001), np.linalg.matrix_rank(C, 0.0001)"
   ]
  },
  {
   "cell_type": "markdown",
   "metadata": {},
   "source": [
    "Система имеет бессконечное множество решений, так как ранг её основной матрицы равен рангу расширенной матрицы и ранг меньше числа неизвестных. "
   ]
  },
  {
   "cell_type": "markdown",
   "metadata": {},
   "source": [
    "#### 4. Вычислите LU-разложение матрицы:"
   ]
  },
  {
   "cell_type": "code",
   "execution_count": 17,
   "metadata": {},
   "outputs": [],
   "source": [
    "import scipy\n",
    "import scipy.linalg"
   ]
  },
  {
   "cell_type": "code",
   "execution_count": 20,
   "metadata": {},
   "outputs": [
    {
     "name": "stdout",
     "output_type": "stream",
     "text": [
      "[[ 1  2  3]\n",
      " [ 2 16 21]\n",
      " [ 4 28 73]]\n"
     ]
    }
   ],
   "source": [
    "A = np.array([[1,2,3],[2,16,21],[4,28,73]])\n",
    "print(A)"
   ]
  },
  {
   "cell_type": "code",
   "execution_count": 21,
   "metadata": {},
   "outputs": [
    {
     "name": "stdout",
     "output_type": "stream",
     "text": [
      "P: \n",
      "[[0. 1. 0.]\n",
      " [0. 0. 1.]\n",
      " [1. 0. 0.]]\n",
      "L: \n",
      "[[ 1.    0.    0.  ]\n",
      " [ 0.25  1.    0.  ]\n",
      " [ 0.5  -0.4   1.  ]]\n",
      "U: \n",
      "[[  4.    28.    73.  ]\n",
      " [  0.    -5.   -15.25]\n",
      " [  0.     0.   -21.6 ]]\n"
     ]
    }
   ],
   "source": [
    "# LU-разложение матрицы a\n",
    "P, L, U = scipy.linalg.lu(A)\n",
    "print(f'P: \\n{P}')\n",
    "print(f'L: \\n{L}')\n",
    "print(f'U: \\n{U}')"
   ]
  },
  {
   "cell_type": "code",
   "execution_count": 23,
   "metadata": {},
   "outputs": [
    {
     "name": "stdout",
     "output_type": "stream",
     "text": [
      "432.00000000000017\n"
     ]
    }
   ],
   "source": [
    "det_A = np.linalg.det(A)\n",
    "print(det_A)"
   ]
  },
  {
   "cell_type": "code",
   "execution_count": 24,
   "metadata": {},
   "outputs": [],
   "source": [
    "B = np.array([2, 2, 2])"
   ]
  },
  {
   "cell_type": "code",
   "execution_count": 25,
   "metadata": {},
   "outputs": [
    {
     "name": "stdout",
     "output_type": "stream",
     "text": [
      "[ 2.37037037 -0.07407407 -0.07407407]\n"
     ]
    }
   ],
   "source": [
    "X = np.linalg.solve(A, B)\n",
    "print(X)"
   ]
  },
  {
   "cell_type": "code",
   "execution_count": 27,
   "metadata": {},
   "outputs": [
    {
     "name": "stdout",
     "output_type": "stream",
     "text": [
      "[2. 2. 2.]\n"
     ]
    }
   ],
   "source": [
    "#проверка\n",
    "print(np.dot(A, X))"
   ]
  },
  {
   "cell_type": "markdown",
   "metadata": {},
   "source": [
    "#### 5. Найдите нормальное псевдорешение недоопределенной системы:\n",
    "#### Для этого определите функцию Q(x,y,z), равную норме решения, и найдите ее минимум."
   ]
  },
  {
   "cell_type": "code",
   "execution_count": 28,
   "metadata": {},
   "outputs": [],
   "source": [
    "import matplotlib.pyplot as plt\n",
    "%matplotlib inline"
   ]
  },
  {
   "cell_type": "code",
   "execution_count": 29,
   "metadata": {},
   "outputs": [],
   "source": [
    "A = np.array([[1, 2, -1], [8, -5, 2]])\n",
    "B = np.array([1, 12])"
   ]
  },
  {
   "cell_type": "code",
   "execution_count": 30,
   "metadata": {},
   "outputs": [],
   "source": [
    "def Q(x, y, z):\n",
    "    return (x**2 + y**2 + z**2)"
   ]
  },
  {
   "cell_type": "code",
   "execution_count": 31,
   "metadata": {},
   "outputs": [
    {
     "data": {
      "image/png": "[encoded data removed]",
      "text/plain": [
       "<Figure size 432x288 with 1 Axes>"
      ]
     },
     "metadata": {
      "needs_background": "light"
     },
     "output_type": "display_data"
    }
   ],
   "source": [
    "#приближение №1\n",
    "x = np.linspace(-5, 5, 201)\n",
    "y = 10 * x - 14\n",
    "z = x + 2 * y - 1\n",
    "\n",
    "plt.plot(x, Q(x, y, z))\n",
    "plt.xlabel('x')\n",
    "plt.ylabel('Q(x, y, z)')\n",
    "plt.grid(True)\n",
    "plt.show()"
   ]
  },
  {
   "cell_type": "code",
   "execution_count": 32,
   "metadata": {},
   "outputs": [
    {
     "data": {
      "image/png": "[encoded data removed]",
      "text/plain": [
       "<Figure size 432x288 with 1 Axes>"
      ]
     },
     "metadata": {
      "needs_background": "light"
     },
     "output_type": "display_data"
    }
   ],
   "source": [
    "#приближение №2\n",
    "x = np.linspace(1.25, 1.5, 201)\n",
    "y = 10 * x - 14\n",
    "z = x + 2 * y - 1\n",
    "\n",
    "plt.plot(x, Q(x, y, z))\n",
    "plt.xlabel('x')\n",
    "plt.ylabel('Q(x, y, z)')\n",
    "plt.grid(True)\n",
    "plt.show()"
   ]
  },
  {
   "cell_type": "code",
   "execution_count": 33,
   "metadata": {},
   "outputs": [
    {
     "name": "stdout",
     "output_type": "stream",
     "text": [
      "[ 1.37 -0.3  -0.23]\n"
     ]
    }
   ],
   "source": [
    "# исходя из визуального анализа графика:\n",
    "x = 1.37\n",
    "y = 10 * x - 14\n",
    "z = x + 2 * y - 1\n",
    "\n",
    "X1 = np.array([x, y, z])\n",
    "print(X1)"
   ]
  },
  {
   "cell_type": "code",
   "execution_count": 34,
   "metadata": {},
   "outputs": [
    {
     "name": "stdout",
     "output_type": "stream",
     "text": [
      "[ 1.38191882 -0.18081181  0.0202952 ]\n"
     ]
    }
   ],
   "source": [
    "# нормальное псевдорешение числовым методом:\n",
    "X2 = np.linalg.lstsq(A, B, rcond=None)[0]\n",
    "print(X2)"
   ]
  },
  {
   "cell_type": "code",
   "execution_count": 35,
   "metadata": {},
   "outputs": [
    {
     "name": "stdout",
     "output_type": "stream",
     "text": [
      "[ 1. 12.]\n",
      "[ 1. 12.]\n"
     ]
    }
   ],
   "source": [
    "# проверка:\n",
    "print(np.dot(A, X1))\n",
    "print(np.dot(A, X2))"
   ]
  },
  {
   "cell_type": "markdown",
   "metadata": {},
   "source": [
    "#### 6. Найдите одно из псевдорешений вырожденной системы:\n",
    "#### Попробуйте также отыскать и нормальное псевдорешение."
   ]
  },
  {
   "cell_type": "code",
   "execution_count": 36,
   "metadata": {},
   "outputs": [],
   "source": [
    "import scipy.optimize"
   ]
  },
  {
   "cell_type": "code",
   "execution_count": 37,
   "metadata": {},
   "outputs": [],
   "source": [
    "a = np.array([[1,2,3],[4,5,6],[7,8,9]])\n",
    "b = np.array([[2,5,11]])\n",
    "c = np.concatenate((a, b.T), axis=1)"
   ]
  },
  {
   "cell_type": "code",
   "execution_count": 38,
   "metadata": {},
   "outputs": [
    {
     "name": "stdout",
     "output_type": "stream",
     "text": [
      "6.66133814775094e-16\n"
     ]
    }
   ],
   "source": [
    "det_a = np.linalg.det(a)\n",
    "print(det_a)"
   ]
  },
  {
   "cell_type": "code",
   "execution_count": 39,
   "metadata": {},
   "outputs": [
    {
     "name": "stdout",
     "output_type": "stream",
     "text": [
      "Q: \n",
      "[[-0.12403473 -0.99227788]\n",
      " [-0.99227788  0.12403473]]\n",
      "R: \n",
      "[[-8.06225775  4.71331991 -1.86052102]\n",
      " [ 0.         -2.60472943  1.24034735]]\n"
     ]
    }
   ],
   "source": [
    "q, r = np.linalg.qr(A)\n",
    "print(f'Q: \\n{q}')\n",
    "print(f'R: \\n{r}')"
   ]
  },
  {
   "cell_type": "code",
   "execution_count": 40,
   "metadata": {},
   "outputs": [
    {
     "data": {
      "text/plain": [
       "(2, 3, 3)"
      ]
     },
     "execution_count": 40,
     "metadata": {},
     "output_type": "execute_result"
    }
   ],
   "source": [
    "rank_A = np.linalg.matrix_rank(a)\n",
    "rank_C = np.linalg.matrix_rank(c)\n",
    "n = a.shape[1]\n",
    "rank_A, rank_C, n"
   ]
  },
  {
   "cell_type": "code",
   "execution_count": null,
   "metadata": {},
   "outputs": [],
   "source": [
    "#cистема не имеет решений"
   ]
  },
  {
   "cell_type": "code",
   "execution_count": 42,
   "metadata": {},
   "outputs": [
    {
     "name": "stdout",
     "output_type": "stream",
     "text": [
      "[ 1.25  0.5  -0.25]\n"
     ]
    }
   ],
   "source": [
    "x = np.linalg.lstsq(a, b.flatten(), rcond=None)[0]\n",
    "print(x)"
   ]
  },
  {
   "cell_type": "code",
   "execution_count": 44,
   "metadata": {},
   "outputs": [
    {
     "name": "stdout",
     "output_type": "stream",
     "text": [
      "Норма (псевдорешение): 1.8749999999999925\n"
     ]
    },
    {
     "data": {
      "text/plain": [
       "array([[-0.5,  1. , -0.5]])"
      ]
     },
     "execution_count": 44,
     "metadata": {},
     "output_type": "execute_result"
    }
   ],
   "source": [
    "# проверка\n",
    "print(\"Норма (псевдорешение):\", x[0]**2 + x[1]**2 + x[2]**2)\n",
    "a@x-b"
   ]
  },
  {
   "cell_type": "code",
   "execution_count": 45,
   "metadata": {},
   "outputs": [],
   "source": [
    "# найдем нормальное псевдорешени:\n",
    "def Q(x):\n",
    "    y = 2.5 - 2 * x\n",
    "    z = x - 1\n",
    "    return (x**2 + y**2 + z**2)"
   ]
  },
  {
   "cell_type": "code",
   "execution_count": 46,
   "metadata": {},
   "outputs": [
    {
     "data": {
      "text/plain": [
       "(0.9999999934100475, 0.500000013179905, -6.589952472602079e-09)"
      ]
     },
     "execution_count": 46,
     "metadata": {},
     "output_type": "execute_result"
    }
   ],
   "source": [
    "x = scipy.optimize.minimize(Q, (0)).x[0]\n",
    "y = 2.5 - 2 * x\n",
    "z = x - 1\n",
    "x, y, z"
   ]
  },
  {
   "cell_type": "code",
   "execution_count": 47,
   "metadata": {},
   "outputs": [
    {
     "name": "stdout",
     "output_type": "stream",
     "text": [
      "Норма (нормальное псевдорешение): 1.2500000000000002\n"
     ]
    },
    {
     "data": {
      "text/plain": [
       "array([[0. , 1.5, 0. ]])"
      ]
     },
     "execution_count": 47,
     "metadata": {},
     "output_type": "execute_result"
    }
   ],
   "source": [
    "# проверка\n",
    "print(\"Норма (нормальное псевдорешение):\", x**2 + y**2 + z**2)\n",
    "x = np.array([x, y, z])\n",
    "a@x-b"
   ]
  }
 ],
 "metadata": {
  "kernelspec": {
   "display_name": "Python 3",
   "language": "python",
   "name": "python3"
  },
  "language_info": {
   "codemirror_mode": {
    "name": "ipython",
    "version": 3
   },
   "file_extension": ".py",
   "mimetype": "text/x-python",
   "name": "python",
   "nbconvert_exporter": "python",
   "pygments_lexer": "ipython3",
   "version": "3.8.0"
  }
 },
 "nbformat": 4,
 "nbformat_minor": 4
}
